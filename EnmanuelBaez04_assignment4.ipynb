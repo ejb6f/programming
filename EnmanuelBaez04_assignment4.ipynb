#2
import seaborn as sns
import matplotlib.pyplot as plt

#price_summary = df1['Price'].describe()
#plt.figure(figsize = (8, 5))
#sns.kdeplot(df1['Price'], shade = True)
#plt.title('Kernel Density Plot for Price')
#plt.xlabel('Price')
#plt.ylabel('Density')
#plt.show()

#price_by_make = df1.groupby('Make')['Price'].describe()
#plt.figure(figsize = (12, 8))
#sns.kdeplot(data = df1, x = 'Price', hue = 'Make', common_norm = False, multiple = 'stack', fill = True)
#plt.title('Grouped Kernel Density Plot by Make')
#plt.xlabel('Price')
#plt.ylabel('Density')
#plt.legend(title = 'Make', loc = 'upper right')
#plt.show()

# response...

#3
from sklearn.model_selection import train_test_split

train_set, test_set = train_test_split(df1, test_size = 0.2, random_state = 42)

#4
from sklearn.linear_model import LinearRegression
from sklearn.metrics import mean_squared_error, r2_score

num_variables = ['Make_Year', 'Mileage_Run', 'No_of_Owners', 'Seating_Capacity']
X = df1[num_variables]
y = df1['Price']
X_train, X_test, y_train, y_test = train_test_split(X, y, test_size=0.2, random_state=42)
model = LinearRegression()
model.fit(X_train, y_train)
y_pred = model.predict(X_test)
mse = mean_squared_error(y_test, y_pred)
r2 = r2_score(y_test, y_pred)
print("R-squared:" + str(r2))
print("Root mean squared error:" + str(np.sqrt(mse)))

df1 = pd.get_dummies(df1, columns=['Make', 'Fuel_Type'], drop_first=True)
features = df1.columns.difference(['Price'])
X = df1[features]
y = df1['Price']
X_train, X_test, y_train, y_test = train_test_split(X, y, test_size=0.2, random_state=42)
model = LinearRegression()
model.fit(X_train, y_train)
y_pred = model.predict(X_test)
r2 = r2_score(y_test, y_pred)
rmse = np.sqrt(mean_squared_error(y_test, y_pred))

df1
