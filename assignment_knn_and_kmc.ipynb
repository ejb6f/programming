import pandas as pd

df1 = pd.read_csv("car_data.csv")
df1.head()
